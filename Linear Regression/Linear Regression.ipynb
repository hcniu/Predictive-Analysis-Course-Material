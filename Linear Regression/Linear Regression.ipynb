{
 "cells": [
  {
   "cell_type": "code",
   "execution_count": 1,
   "metadata": {},
   "outputs": [],
   "source": [
    "# This script illustrates how to solve a simple regression task using Python and scikit-learn. \n",
    "\n",
    "%matplotlib inline\n",
    "# import necessary libraries and specify that graphs should be plotted inline.\n",
    "from sklearn import datasets\n",
    "from sklearn.model_selection import cross_val_predict\n",
    "from sklearn import linear_model\n",
    "import matplotlib.pyplot as plt\n",
    "\n",
    "# load dataset\n",
    "boston = datasets.load_boston()\n",
    "y = boston.target"
   ]
  },
  {
   "cell_type": "code",
   "execution_count": 2,
   "metadata": {},
   "outputs": [],
   "source": [
    "## Build model\n",
    "lr = linear_model.LinearRegression()"
   ]
  },
  {
   "cell_type": "code",
   "execution_count": 3,
   "metadata": {},
   "outputs": [
    {
     "data": {
      "image/png": "[encoded data removed]",
      "text/plain": [
       "<Figure size 432x288 with 1 Axes>"
      ]
     },
     "metadata": {
      "needs_background": "light"
     },
     "output_type": "display_data"
    }
   ],
   "source": [
    "## Prediction Error Visualization\n",
    "# This example shows how to use cross_val_predict to visualize prediction errors.\n",
    "\n",
    "# cross_val_predict returns an array of the same size as `y` where each entry\n",
    "# is a prediction obtained by cross validated:\n",
    "predicted = cross_val_predict(lr, boston.data, y, cv=10)\n",
    "fig, ax = plt.subplots()\n",
    "ax.scatter(y, predicted)\n",
    "ax.plot([y.min(), y.max()], [y.min(), y.max()], 'k--', lw=4)\n",
    "ax.set_xlabel('Measured')\n",
    "ax.set_ylabel('Predicted')\n",
    "plt.show()"
   ]
  },
  {
   "cell_type": "code",
   "execution_count": 6,
   "metadata": {},
   "outputs": [
    {
     "name": "stdout",
     "output_type": "stream",
     "text": [
      "0.003753767152692203\n"
     ]
    }
   ],
   "source": [
    "# Cross-validated estimators\n",
    "# The best model is selected by cross-validation.\n",
    "\n",
    "## Build model\n",
    "lasso = linear_model.LassoCV()\n",
    "diabetes = datasets.load_diabetes()\n",
    "X_diabetes = diabetes.data\n",
    "y_diabetes = diabetes.target\n",
    "lasso.fit(X_diabetes, y_diabetes)\n",
    "\n",
    "# The estimator chose automatically its lambda:\n",
    "print(lasso.alpha_)"
   ]
  },
  {
   "cell_type": "code",
   "execution_count": 16,
   "metadata": {},
   "outputs": [
    {
     "name": "stdout",
     "output_type": "stream",
     "text": [
      "Residuals:\n",
      "      Min       1Q  Median      3Q      Max\n",
      "-151.7899 -38.5521   1.375 38.8188 154.7088\n",
      "\n",
      "\n",
      "Coefficients:\n",
      "              Estimate  Std. Error  t value   p value\n",
      "_intercept  152.133484    2.544461  59.7901  0.000000\n",
      "x1           -6.496845   58.077261  -0.1119  0.910981\n",
      "x2         -235.996405   58.894551  -4.0071  0.000072\n",
      "x3          521.738543   63.519560   8.2138  0.000000\n",
      "x4          321.066892   62.552351   5.1328  0.000000\n",
      "x5         -569.442684  312.470355  -1.8224  0.069073\n",
      "x6          302.456279  234.530715   1.2896  0.197857\n",
      "x7           -0.000000  136.747964  -0.0000  1.000000\n",
      "x8          143.699567  135.829218   1.0579  0.290661\n",
      "x9          669.926331  105.914725   6.3251  0.000000\n",
      "x10          66.834304   63.581539   1.0512  0.293761\n",
      "---\n",
      "R-squared:  0.51742,    Adjusted R-squared:  0.50623\n",
      "F-statistic: 46.21 on 10 features\n"
     ]
    }
   ],
   "source": [
    "# Find the P-value for coefficients\n",
    "# Use stats.summary(model,x_train,y_train)\n",
    "from regressors import stats\n",
    "stats.summary(lasso.fit(X_diabetes, y_diabetes),X_diabetes, y_diabetes)"
   ]
  },
  {
   "cell_type": "code",
   "execution_count": 5,
   "metadata": {},
   "outputs": [
    {
     "name": "stdout",
     "output_type": "stream",
     "text": [
      "0.1\n"
     ]
    }
   ],
   "source": [
    "ridge = linear_model.RidgeCV()\n",
    "ridge.fit(X_diabetes, y_diabetes)\n",
    "print(ridge.alpha_)"
   ]
  },
  {
   "cell_type": "code",
   "execution_count": null,
   "metadata": {
    "collapsed": true
   },
   "outputs": [],
   "source": []
  }
 ],
 "metadata": {
  "anaconda-cloud": {},
  "kernelspec": {
   "display_name": "Python 3",
   "language": "python",
   "name": "python3"
  },
  "language_info": {
   "codemirror_mode": {
    "name": "ipython",
    "version": 3
   },
   "file_extension": ".py",
   "mimetype": "text/x-python",
   "name": "python",
   "nbconvert_exporter": "python",
   "pygments_lexer": "ipython3",
   "version": "3.7.6"
  }
 },
 "nbformat": 4,
 "nbformat_minor": 1
}
