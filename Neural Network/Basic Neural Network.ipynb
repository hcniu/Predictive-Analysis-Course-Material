{
 "cells": [
  {
   "cell_type": "code",
   "execution_count": 22,
   "metadata": {},
   "outputs": [],
   "source": [
    "from matplotlib import pyplot as plt\n",
    "%matplotlib inline\n",
    "\n",
    "import numpy as np\n",
    "np.random.seed(13)\n",
    "\n",
    "import tensorflow as tf \n",
    "import pandas as pd\n",
    "from tensorflow.keras import backend as K\n",
    "from tensorflow.keras.models import Sequential\n",
    "from tensorflow.keras.datasets import mnist\n",
    "from tensorflow.keras.layers import Dense, Activation, Dropout\n",
    "from tensorflow.keras.utils import to_categorical"
   ]
  },
  {
   "cell_type": "code",
   "execution_count": 23,
   "metadata": {},
   "outputs": [],
   "source": [
    "(x_train, y_train), (x_test, y_test) = mnist.load_data()\n",
    "\n",
    "num_classes = 10 # class size\n",
    "input_unit_size = 28*28 # input vector size"
   ]
  },
  {
   "cell_type": "code",
   "execution_count": 24,
   "metadata": {},
   "outputs": [],
   "source": [
    "x_train = x_train.reshape(x_train.shape[0], input_unit_size)\n",
    "x_test  = x_test.reshape(x_test.shape[0], input_unit_size)\n",
    "x_train = x_train.astype('float32')\n",
    "x_test  = x_test.astype('float32')\n",
    "x_train /= 255\n",
    "x_test  /= 255\n",
    "\n",
    "# one-hot representation\n",
    "y_train = to_categorical(y_train, num_classes)\n",
    "y_test = to_categorical(y_test, num_classes)"
   ]
  },
  {
   "cell_type": "code",
   "execution_count": 33,
   "metadata": {},
   "outputs": [],
   "source": [
    "#1. Create the model\n",
    "model = Sequential()\n",
    "\n",
    "#2. Setup the hiddenlayers\n",
    "\n",
    "#The first layer: we set 128 neurons in the first layer and activation function to be relu.\n",
    "#Besides, because the first layer will input the input data, we need to tell Keras what's the dimension of the input vector\n",
    "model.add(Dense(128, input_dim=input_unit_size, activation='relu'))\n",
    "model.add(Dropout(rate=0.2)) #Dropout rate is used to avoid overfitting. 0.2 means that 20% of the neurons will be forced to be 0\n",
    "\n",
    "#The second layer: we set 50 neurons and activation function to be rely\n",
    "model.add(Dense(50, activation='relu'))\n",
    "model.add(Dropout(rate=0.2)) #Dropout rate is used to avoid overfitting. 0.2 means that 20% of the neurons will be forced to be 0\n",
    "\n",
    "#3. Setup the final layer\n",
    "#The last layer: because it's a multi-class classification problem, we will use softmax\n",
    "#Because this is the last layer, the number of neurons equals to the number of y\n",
    "model.add(Dense(num_classes, activation='softmax'))"
   ]
  },
  {
   "cell_type": "code",
   "execution_count": 36,
   "metadata": {},
   "outputs": [
    {
     "name": "stdout",
     "output_type": "stream",
     "text": [
      "Epoch 1/50\n",
      "200/200 - 1s - loss: 1.8438 - accuracy: 0.5142 - val_loss: 1.7767 - val_accuracy: 0.6110 - 718ms/epoch - 4ms/step\n",
      "Epoch 2/50\n",
      "200/200 - 0s - loss: 1.8226 - accuracy: 0.5244 - val_loss: 1.7519 - val_accuracy: 0.6222 - 368ms/epoch - 2ms/step\n",
      "Epoch 3/50\n",
      "200/200 - 0s - loss: 1.7991 - accuracy: 0.5355 - val_loss: 1.7262 - val_accuracy: 0.6332 - 359ms/epoch - 2ms/step\n",
      "Epoch 4/50\n",
      "200/200 - 0s - loss: 1.7732 - accuracy: 0.5491 - val_loss: 1.6999 - val_accuracy: 0.6430 - 358ms/epoch - 2ms/step\n",
      "Epoch 5/50\n",
      "200/200 - 0s - loss: 1.7505 - accuracy: 0.5591 - val_loss: 1.6731 - val_accuracy: 0.6531 - 359ms/epoch - 2ms/step\n",
      "Epoch 6/50\n",
      "200/200 - 0s - loss: 1.7250 - accuracy: 0.5682 - val_loss: 1.6461 - val_accuracy: 0.6638 - 357ms/epoch - 2ms/step\n",
      "Epoch 7/50\n",
      "200/200 - 0s - loss: 1.6997 - accuracy: 0.5815 - val_loss: 1.6189 - val_accuracy: 0.6727 - 358ms/epoch - 2ms/step\n",
      "Epoch 8/50\n",
      "200/200 - 0s - loss: 1.6755 - accuracy: 0.5868 - val_loss: 1.5915 - val_accuracy: 0.6816 - 358ms/epoch - 2ms/step\n",
      "Epoch 9/50\n",
      "200/200 - 0s - loss: 1.6508 - accuracy: 0.5960 - val_loss: 1.5642 - val_accuracy: 0.6890 - 372ms/epoch - 2ms/step\n",
      "Epoch 10/50\n",
      "200/200 - 0s - loss: 1.6277 - accuracy: 0.6039 - val_loss: 1.5370 - val_accuracy: 0.6982 - 358ms/epoch - 2ms/step\n",
      "Epoch 11/50\n",
      "200/200 - 0s - loss: 1.6038 - accuracy: 0.6122 - val_loss: 1.5101 - val_accuracy: 0.7053 - 359ms/epoch - 2ms/step\n",
      "Epoch 12/50\n",
      "200/200 - 0s - loss: 1.5776 - accuracy: 0.6205 - val_loss: 1.4832 - val_accuracy: 0.7109 - 359ms/epoch - 2ms/step\n",
      "Epoch 13/50\n",
      "200/200 - 0s - loss: 1.5518 - accuracy: 0.6272 - val_loss: 1.4566 - val_accuracy: 0.7194 - 361ms/epoch - 2ms/step\n",
      "Epoch 14/50\n",
      "200/200 - 0s - loss: 1.5294 - accuracy: 0.6345 - val_loss: 1.4303 - val_accuracy: 0.7251 - 359ms/epoch - 2ms/step\n",
      "Epoch 15/50\n",
      "200/200 - 0s - loss: 1.5056 - accuracy: 0.6375 - val_loss: 1.4044 - val_accuracy: 0.7306 - 359ms/epoch - 2ms/step\n",
      "Epoch 16/50\n",
      "200/200 - 0s - loss: 1.4827 - accuracy: 0.6462 - val_loss: 1.3790 - val_accuracy: 0.7356 - 360ms/epoch - 2ms/step\n",
      "Epoch 17/50\n",
      "200/200 - 0s - loss: 1.4601 - accuracy: 0.6509 - val_loss: 1.3541 - val_accuracy: 0.7400 - 358ms/epoch - 2ms/step\n",
      "Epoch 18/50\n",
      "200/200 - 0s - loss: 1.4377 - accuracy: 0.6544 - val_loss: 1.3298 - val_accuracy: 0.7447 - 364ms/epoch - 2ms/step\n",
      "Epoch 19/50\n",
      "200/200 - 0s - loss: 1.4177 - accuracy: 0.6593 - val_loss: 1.3060 - val_accuracy: 0.7486 - 361ms/epoch - 2ms/step\n",
      "Epoch 20/50\n",
      "200/200 - 0s - loss: 1.3947 - accuracy: 0.6640 - val_loss: 1.2827 - val_accuracy: 0.7528 - 359ms/epoch - 2ms/step\n",
      "Epoch 21/50\n",
      "200/200 - 0s - loss: 1.3723 - accuracy: 0.6691 - val_loss: 1.2599 - val_accuracy: 0.7581 - 359ms/epoch - 2ms/step\n",
      "Epoch 22/50\n",
      "200/200 - 0s - loss: 1.3526 - accuracy: 0.6749 - val_loss: 1.2376 - val_accuracy: 0.7619 - 362ms/epoch - 2ms/step\n",
      "Epoch 23/50\n",
      "200/200 - 0s - loss: 1.3315 - accuracy: 0.6784 - val_loss: 1.2160 - val_accuracy: 0.7652 - 372ms/epoch - 2ms/step\n",
      "Epoch 24/50\n",
      "200/200 - 0s - loss: 1.3126 - accuracy: 0.6812 - val_loss: 1.1949 - val_accuracy: 0.7678 - 364ms/epoch - 2ms/step\n",
      "Epoch 25/50\n",
      "200/200 - 0s - loss: 1.2950 - accuracy: 0.6821 - val_loss: 1.1743 - val_accuracy: 0.7717 - 372ms/epoch - 2ms/step\n",
      "Epoch 26/50\n",
      "200/200 - 0s - loss: 1.2745 - accuracy: 0.6891 - val_loss: 1.1542 - val_accuracy: 0.7748 - 369ms/epoch - 2ms/step\n",
      "Epoch 27/50\n",
      "200/200 - 0s - loss: 1.2552 - accuracy: 0.6941 - val_loss: 1.1347 - val_accuracy: 0.7790 - 367ms/epoch - 2ms/step\n",
      "Epoch 28/50\n",
      "200/200 - 0s - loss: 1.2358 - accuracy: 0.6973 - val_loss: 1.1157 - val_accuracy: 0.7839 - 369ms/epoch - 2ms/step\n",
      "Epoch 29/50\n",
      "200/200 - 0s - loss: 1.2200 - accuracy: 0.7007 - val_loss: 1.0972 - val_accuracy: 0.7869 - 375ms/epoch - 2ms/step\n",
      "Epoch 30/50\n",
      "200/200 - 0s - loss: 1.2023 - accuracy: 0.7038 - val_loss: 1.0792 - val_accuracy: 0.7894 - 382ms/epoch - 2ms/step\n",
      "Epoch 31/50\n",
      "200/200 - 0s - loss: 1.1874 - accuracy: 0.7067 - val_loss: 1.0618 - val_accuracy: 0.7929 - 384ms/epoch - 2ms/step\n",
      "Epoch 32/50\n",
      "200/200 - 0s - loss: 1.1707 - accuracy: 0.7113 - val_loss: 1.0448 - val_accuracy: 0.7962 - 385ms/epoch - 2ms/step\n",
      "Epoch 33/50\n",
      "200/200 - 0s - loss: 1.1552 - accuracy: 0.7135 - val_loss: 1.0282 - val_accuracy: 0.7981 - 387ms/epoch - 2ms/step\n",
      "Epoch 34/50\n",
      "200/200 - 0s - loss: 1.1390 - accuracy: 0.7177 - val_loss: 1.0121 - val_accuracy: 0.8018 - 404ms/epoch - 2ms/step\n",
      "Epoch 35/50\n",
      "200/200 - 0s - loss: 1.1240 - accuracy: 0.7191 - val_loss: 0.9964 - val_accuracy: 0.8041 - 385ms/epoch - 2ms/step\n",
      "Epoch 36/50\n",
      "200/200 - 0s - loss: 1.1097 - accuracy: 0.7241 - val_loss: 0.9812 - val_accuracy: 0.8059 - 406ms/epoch - 2ms/step\n",
      "Epoch 37/50\n",
      "200/200 - 0s - loss: 1.0977 - accuracy: 0.7249 - val_loss: 0.9665 - val_accuracy: 0.8093 - 391ms/epoch - 2ms/step\n",
      "Epoch 38/50\n",
      "200/200 - 0s - loss: 1.0826 - accuracy: 0.7275 - val_loss: 0.9520 - val_accuracy: 0.8109 - 400ms/epoch - 2ms/step\n",
      "Epoch 39/50\n",
      "200/200 - 0s - loss: 1.0675 - accuracy: 0.7343 - val_loss: 0.9380 - val_accuracy: 0.8139 - 399ms/epoch - 2ms/step\n",
      "Epoch 40/50\n",
      "200/200 - 0s - loss: 1.0554 - accuracy: 0.7341 - val_loss: 0.9245 - val_accuracy: 0.8156 - 403ms/epoch - 2ms/step\n",
      "Epoch 41/50\n",
      "200/200 - 0s - loss: 1.0438 - accuracy: 0.7374 - val_loss: 0.9114 - val_accuracy: 0.8170 - 406ms/epoch - 2ms/step\n",
      "Epoch 42/50\n",
      "200/200 - 0s - loss: 1.0294 - accuracy: 0.7396 - val_loss: 0.8986 - val_accuracy: 0.8186 - 397ms/epoch - 2ms/step\n",
      "Epoch 43/50\n",
      "200/200 - 0s - loss: 1.0185 - accuracy: 0.7418 - val_loss: 0.8861 - val_accuracy: 0.8210 - 390ms/epoch - 2ms/step\n",
      "Epoch 44/50\n",
      "200/200 - 0s - loss: 1.0073 - accuracy: 0.7448 - val_loss: 0.8740 - val_accuracy: 0.8228 - 383ms/epoch - 2ms/step\n",
      "Epoch 45/50\n",
      "200/200 - 0s - loss: 0.9957 - accuracy: 0.7462 - val_loss: 0.8623 - val_accuracy: 0.8248 - 382ms/epoch - 2ms/step\n",
      "Epoch 46/50\n",
      "200/200 - 0s - loss: 0.9825 - accuracy: 0.7491 - val_loss: 0.8508 - val_accuracy: 0.8268 - 397ms/epoch - 2ms/step\n",
      "Epoch 47/50\n",
      "200/200 - 0s - loss: 0.9732 - accuracy: 0.7525 - val_loss: 0.8397 - val_accuracy: 0.8286 - 385ms/epoch - 2ms/step\n",
      "Epoch 48/50\n",
      "200/200 - 0s - loss: 0.9643 - accuracy: 0.7532 - val_loss: 0.8288 - val_accuracy: 0.8308 - 382ms/epoch - 2ms/step\n",
      "Epoch 49/50\n",
      "200/200 - 0s - loss: 0.9542 - accuracy: 0.7556 - val_loss: 0.8183 - val_accuracy: 0.8332 - 374ms/epoch - 2ms/step\n",
      "Epoch 50/50\n",
      "200/200 - 0s - loss: 0.9425 - accuracy: 0.7582 - val_loss: 0.8081 - val_accuracy: 0.8343 - 373ms/epoch - 2ms/step\n"
     ]
    }
   ],
   "source": [
    "#4. Setup the loss function\n",
    "model.compile(loss='categorical_crossentropy', optimizer='adadelta', metrics=['accuracy'])\n",
    "\n",
    "#5. Fit the model\n",
    "result = model.fit(x_train, y_train, epochs=50, batch_size=256, verbose=2,  validation_split=0.15)"
   ]
  },
  {
   "cell_type": "code",
   "execution_count": 37,
   "metadata": {},
   "outputs": [
    {
     "data": {
      "image/png": "[encoded data removed]",
      "text/plain": [
       "<Figure size 432x288 with 1 Axes>"
      ]
     },
     "metadata": {
      "needs_background": "light"
     },
     "output_type": "display_data"
    },
    {
     "data": {
      "text/plain": [
       "<matplotlib.legend.Legend at 0x7fb271e077d0>"
      ]
     },
     "execution_count": 37,
     "metadata": {},
     "output_type": "execute_result"
    },
    {
     "data": {
      "image/png": "[encoded data removed]",
      "text/plain": [
       "<Figure size 432x288 with 1 Axes>"
      ]
     },
     "metadata": {
      "needs_background": "light"
     },
     "output_type": "display_data"
    }
   ],
   "source": [
    "x = range(50)\n",
    "plt.plot(x, result.history['accuracy'], label='train')\n",
    "plt.plot(x, result.history['val_accuracy'], label='validation')\n",
    "plt.title('Accuracy')\n",
    "plt.legend(loc='center left', bbox_to_anchor=(1, 0.5))\n",
    "plt.show()\n",
    "\n",
    "plt.plot(x, result.history['loss'], label='train')\n",
    "plt.plot(x, result.history['val_loss'], label='validation')\n",
    "plt.title('Loss')\n",
    "plt.legend(loc='center left', bbox_to_anchor=(1, 0.5))"
   ]
  }
 ],
 "metadata": {
  "kernelspec": {
   "display_name": "Python 3",
   "language": "python",
   "name": "python3"
  },
  "language_info": {
   "codemirror_mode": {
    "name": "ipython",
    "version": 3
   },
   "file_extension": ".py",
   "mimetype": "text/x-python",
   "name": "python",
   "nbconvert_exporter": "python",
   "pygments_lexer": "ipython3",
   "version": "3.7.6"
  }
 },
 "nbformat": 4,
 "nbformat_minor": 1
}
