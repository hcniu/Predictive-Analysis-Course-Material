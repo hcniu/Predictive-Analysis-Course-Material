{
 "cells": [
  {
   "cell_type": "code",
   "execution_count": 1,
   "metadata": {},
   "outputs": [
    {
     "name": "stderr",
     "output_type": "stream",
     "text": [
      "/opt/anaconda3/lib/python3.7/site-packages/ipykernel_launcher.py:19: DeprecationWarning: `import kerastuner` is deprecated, please use `import keras_tuner`.\n"
     ]
    }
   ],
   "source": [
    "import pandas as pd\n",
    "from matplotlib import pyplot as plt\n",
    "%matplotlib inline\n",
    "\n",
    "import numpy as np\n",
    "np.random.seed(13)\n",
    "\n",
    "import tensorflow as tf \n",
    "import pandas as pd\n",
    "from tensorflow.keras import backend as K\n",
    "from tensorflow.keras.models import Sequential\n",
    "from tensorflow.keras.datasets import mnist\n",
    "from tensorflow.keras.layers import Dense, Activation, Dropout\n",
    "from tensorflow.keras.utils import to_categorical\n",
    "from tensorflow.keras.wrappers.scikit_learn import KerasClassifier\n",
    "\n",
    "from tensorflow import keras\n",
    "from tensorflow.keras import layers\n",
    "from kerastuner.tuners import RandomSearch\n",
    "\n",
    "import matplotlib.pyplot as plt\n",
    "import scikitplot as skplt\n",
    "from sklearn import neighbors, datasets, tree, linear_model, metrics,svm\n",
    "from sklearn.model_selection import cross_val_score, train_test_split,KFold\n",
    "import itertools\n",
    "from itertools import permutations\n",
    "from sklearn.metrics import recall_score, confusion_matrix\n",
    "from sklearn.model_selection import GridSearchCV\n",
    "\n",
    "import warnings\n",
    "warnings.filterwarnings('ignore')"
   ]
  },
  {
   "cell_type": "markdown",
   "metadata": {},
   "source": [
    "# 1. Import Data"
   ]
  },
  {
   "cell_type": "code",
   "execution_count": 70,
   "metadata": {},
   "outputs": [],
   "source": [
    "df=pd.read_csv('spambase.data',header=None)\n",
    "df.columns=['word_freq_make','word_freq_address','word_freq_all','word_freq_3d','word_freq_our','word_freq_over','word_freq_remove','word_freq_internet',\n",
    "           'word_freq_order','word_freq_mail','word_freq_receive','word_freq_will','word_freq_people','word_freq_report','word_freq_addresses',\n",
    "           'word_freq_free','word_freq_business','word_freq_email','word_freq_you','word_freq_credit','word_freq_your','word_freq_font','word_freq_000',\n",
    "           'word_freq_money','word_freq_hp','word_freq_hpl','word_freq_george','word_freq_650','word_freq_lab','word_freq_labs','word_freq_telnet','word_freq_857',\n",
    "           'word_freq_data','word_freq_415','word_freq_85','word_freq_technology','word_freq_1999','word_freq_parts','word_freq_pm','word_freq_direct','word_freq_cs',\n",
    "           'word_freq_meeting','word_freq_original','word_freq_project','word_freq_re','word_freq_edu','word_freq_table','word_freq_conference','char_freq_;',\n",
    "           'char_freq_(','char_freq_[','char_freq_!','char_freq_$','char_freq_#','capital_run_length_average','capital_run_length_longest',\n",
    "           'capital_run_length_total','spam']\n",
    "df['spam']=df['spam'].astype(str)\n"
   ]
  },
  {
   "cell_type": "markdown",
   "metadata": {},
   "source": [
    " # 2. Train-Test Data Split"
   ]
  },
  {
   "cell_type": "code",
   "execution_count": 71,
   "metadata": {},
   "outputs": [],
   "source": [
    "x_train,x_test,y_train,y_test = train_test_split(df.drop(columns=['spam']),df['spam'],test_size=0.2,random_state=9)"
   ]
  },
  {
   "cell_type": "markdown",
   "metadata": {},
   "source": [
    "# 3. SMOTE to fix imbalance problem"
   ]
  },
  {
   "cell_type": "code",
   "execution_count": 72,
   "metadata": {},
   "outputs": [],
   "source": [
    "from imblearn.over_sampling import SMOTE\n",
    "oversample = SMOTE()\n",
    "x_train, y_train = oversample.fit_resample(x_train, y_train)"
   ]
  },
  {
   "cell_type": "code",
   "execution_count": 73,
   "metadata": {},
   "outputs": [],
   "source": [
    "y_train=y_train.astype(int)\n",
    "y_test=y_test.astype(int)"
   ]
  },
  {
   "cell_type": "markdown",
   "metadata": {},
   "source": [
    "# 4. Data Normalization"
   ]
  },
  {
   "cell_type": "code",
   "execution_count": 74,
   "metadata": {},
   "outputs": [],
   "source": [
    "from sklearn.preprocessing import MinMaxScaler\n",
    "scaler=MinMaxScaler()\n",
    "scaler=scaler.fit(x_train)\n",
    "x_train[x_train.columns] = scaler.transform(x_train[x_train.columns])\n",
    "x_test[x_test.columns] = scaler.transform(x_test[x_test.columns])"
   ]
  },
  {
   "cell_type": "markdown",
   "metadata": {},
   "source": [
    "# 5. Nested Grid Search CV to find the best model, using accuracy"
   ]
  },
  {
   "cell_type": "code",
   "execution_count": 75,
   "metadata": {},
   "outputs": [
    {
     "name": "stdout",
     "output_type": "stream",
     "text": [
      "Average Performance of Neural Network Classifier: 94.64%\n",
      "Average Performance of SVM Classifier: 94.08%\n",
      "Average Performance of Decision Tree Classifier: 93.14%\n",
      "Average Performance of KNN Classifier: 91.94%\n"
     ]
    }
   ],
   "source": [
    "# Create the CV\n",
    "inner_cv = KFold(n_splits=5, shuffle=True, random_state=9)\n",
    "outer_cv = KFold(n_splits=5, shuffle=True, random_state=9)\n",
    "\n",
    "# Create the Classifier\n",
    "def create_model(activation, nb_hidden):\n",
    "    model = Sequential()\n",
    "    model.add(Dense(nb_hidden, input_dim=57, activation=activation))\n",
    "    model.add(Dense(nb_hidden, activation=activation))\n",
    "    model.add(Dense(nb_hidden, activation=activation))\n",
    "    model.add(Dense(1, activation='sigmoid'))\n",
    "    model.compile(loss='binary_crossentropy', optimizer='adam', metrics=['accuracy'])\n",
    "    return model\n",
    "NN = KerasClassifier(build_fn=create_model, epochs=30, batch_size=256, verbose=0)\n",
    "t=tree.DecisionTreeClassifier(random_state=9)\n",
    "knn=neighbors.KNeighborsClassifier()\n",
    "s=svm.SVC(random_state=9)\n",
    "\n",
    "# Set up the parameter grid\n",
    "NN_grid = {'activation':['relu', 'sigmoid'], 'nb_hidden':[10,20,30,40,50,60,70,80,90,100]}\n",
    "tree_grid={'criterion':['gini','entropy'],\n",
    "           'max_depth':list(range(30))}\n",
    "knn_grid={'weights':['uniform','distance'],\n",
    "          'n_neighbors':list(range(5,31))}\n",
    "svm_grid={'C':[0.1,1,5,10,50,100],\n",
    "          'gamma':[1,5,10,15,20,25,30,50,100],\n",
    "          'kernel':['linear','rbf']}\n",
    "\n",
    "#Nested CV for Neural Network\n",
    "clf = GridSearchCV(estimator=NN, param_grid=NN_grid, cv=inner_cv,scoring='accuracy')\n",
    "nested_score = cross_val_score(clf, X=x_train, y=y_train, cv=outer_cv,scoring='accuracy')\n",
    "NN_result=nested_score.mean()\n",
    "\n",
    "#Nested CV for SVM\n",
    "clf = GridSearchCV(estimator=s, param_grid=svm_grid, cv=inner_cv,scoring='accuracy')\n",
    "nested_score = cross_val_score(clf, X=x_train, y=y_train, cv=outer_cv,scoring='accuracy')\n",
    "svm_result=nested_score.mean()\n",
    "\n",
    "#Nested CV for Decision Tree\n",
    "clf = GridSearchCV(estimator=t, param_grid=tree_grid, cv=inner_cv,scoring='accuracy')\n",
    "nested_score = cross_val_score(clf, X=x_train, y=y_train, cv=outer_cv,scoring='accuracy')\n",
    "tree_result=nested_score.mean()\n",
    "\n",
    "#Nested CV for KNN\n",
    "clf = GridSearchCV(estimator=knn, param_grid=knn_grid, cv=inner_cv,scoring='accuracy')\n",
    "nested_score = cross_val_score(clf, X=x_train, y=y_train, cv=outer_cv,scoring='accuracy')\n",
    "knn_result=nested_score.mean()\n",
    "\n",
    "print('Average Performance of Neural Network Classifier: {}%'.format(round(NN_result*100,2)))\n",
    "print('Average Performance of SVM Classifier: {}%'.format(round(svm_result*100,2)))\n",
    "print('Average Performance of Decision Tree Classifier: {}%'.format(round(tree_result*100,2)))\n",
    "print('Average Performance of KNN Classifier: {}%'.format(round(knn_result*100,2)))"
   ]
  },
  {
   "cell_type": "markdown",
   "metadata": {},
   "source": [
    "# 6-1. Use GridSearch to find best hyper-parameters for 4-layers NN model"
   ]
  },
  {
   "cell_type": "code",
   "execution_count": 77,
   "metadata": {},
   "outputs": [
    {
     "name": "stdout",
     "output_type": "stream",
     "text": [
      "The best parameters activation=relu & nb_hidden=100\n",
      "Prediction Accuracy Score on Test Data: 94.46%\n",
      "Recall positive on Test Data: 93.8%\n"
     ]
    }
   ],
   "source": [
    "#Grid Search Verison\n",
    "NN_grid = {'activation':['relu', 'sigmoid'], 'nb_hidden':[10,20,30,40,50,60,70,80,90,100]}\n",
    "# Create the Classifier\n",
    "def create_model(activation, nb_hidden):\n",
    "    model = Sequential()\n",
    "    model.add(Dense(nb_hidden, input_dim=57, activation=activation))\n",
    "    model.add(Dense(nb_hidden, activation=activation))\n",
    "    model.add(Dense(nb_hidden, activation=activation))\n",
    "    model.add(Dense(1, activation='sigmoid'))\n",
    "    model.compile(loss='binary_crossentropy', optimizer='adam', metrics=['accuracy'])\n",
    "    return model\n",
    "NN = KerasClassifier(build_fn=create_model, epochs=30, batch_size=256, verbose=0)\n",
    "\n",
    "#Grid Search CV for Neural Network\n",
    "NNmodel = GridSearchCV(estimator=NN, param_grid=NN_grid, cv=5,scoring='accuracy')\n",
    "NNmodel.fit(x_train, y_train)\n",
    "\n",
    "#Result\n",
    "print('The best parameters activation={} & nb_hidden={}'.format(NNmodel.best_params_['activation'],NNmodel.best_params_['nb_hidden']))\n",
    "print(\"Prediction Accuracy Score on Test Data: {}%\".format(round(metrics.accuracy_score(y_test, NNmodel.predict(x_test))*100,2)))\n",
    "print(\"Recall positive on Test Data: {}%\".format(round(metrics.recall_score(y_test, NNmodel.predict(x_test),pos_label=1)*100,2)))"
   ]
  },
  {
   "cell_type": "markdown",
   "metadata": {},
   "source": [
    "# 6-2. Use RandomSearch to find best hyper-parameters for 4-layers NN model"
   ]
  },
  {
   "cell_type": "code",
   "execution_count": 78,
   "metadata": {},
   "outputs": [
    {
     "name": "stdout",
     "output_type": "stream",
     "text": [
      "Trial 5 Complete [00h 00m 08s]\n",
      "accuracy: 0.9723672270774841\n",
      "\n",
      "Best accuracy So Far: 0.9880287885665894\n",
      "Total elapsed time: 00h 00m 42s\n",
      "INFO:tensorflow:Oracle triggered exit\n"
     ]
    }
   ],
   "source": [
    "#Random Search Version\n",
    "def build_model(hp):\n",
    "    model = keras.Sequential()\n",
    "    model.add(layers.Dense(units=hp.Int('units',\n",
    "                                        min_value=10,\n",
    "                                        max_value=100,\n",
    "                                        step=10),\n",
    "                           activation='relu',input_dim=57))\n",
    "    model.add(layers.Dense(units=hp.Int('units',\n",
    "                                        min_value=10,\n",
    "                                        max_value=100,\n",
    "                                        step=10),\n",
    "                           activation='relu'))\n",
    "    model.add(layers.Dense(units=hp.Int('units',\n",
    "                                        min_value=10,\n",
    "                                        max_value=100,\n",
    "                                        step=10),\n",
    "                           activation='relu'))\n",
    "    model.add(layers.Dense(1,activation='sigmoid'))\n",
    "    model.compile(optimizer=keras.optimizers.Adam(hp.Choice('learning_rate',\n",
    "                                                            values=[0.01,0.001,0.0001])),\n",
    "                 loss='binary_crossentropy',\n",
    "                 metrics=['accuracy'])\n",
    "    return model\n",
    "\n",
    "tuner=RandomSearch(build_model,\n",
    "                   objective='accuracy',\n",
    "                   max_trials=5,\n",
    "                   overwrite=True,\n",
    "                   seed=99,\n",
    "                   executions_per_trial=5)\n",
    "\n",
    "#Keras cannot input object data type, so no matter the column is boolean or numeric we need to transform them to float32\n",
    "x_train_float = np.asarray(x_train).astype(np.float32)\n",
    "y_train_float = np.asarray(y_train).astype(np.float32)\n",
    "x_test_float = np.asarray(x_test).astype(np.float32)\n",
    "y_test_float = np.asarray(y_test).astype(np.float32)\n",
    "\n",
    "tuner.search(x=x_train_float,y=y_train_float,epochs=30,batch_size=512,validation_data=(x_test_float,y_test_float))"
   ]
  },
  {
   "cell_type": "code",
   "execution_count": 79,
   "metadata": {},
   "outputs": [],
   "source": [
    "#Get the best model\n",
    "NNmodel2=tuner.get_best_models()[0]"
   ]
  },
  {
   "cell_type": "code",
   "execution_count": 80,
   "metadata": {},
   "outputs": [
    {
     "name": "stdout",
     "output_type": "stream",
     "text": [
      "The best 4-layers NN parameters would be 100 neurons and 0.01 learning rate.\n",
      "------------------------------------------\n",
      "The best model's accuracy on test data = 98%\n",
      "------------------------------------------\n",
      "Results summary\n",
      "Results in ./untitled_project\n",
      "Showing 10 best trials\n",
      "Objective(name='accuracy', direction='max')\n",
      "Trial summary\n",
      "Hyperparameters:\n",
      "units: 100\n",
      "learning_rate: 0.01\n",
      "Score: 0.9880287885665894\n",
      "Trial summary\n",
      "Hyperparameters:\n",
      "units: 60\n",
      "learning_rate: 0.01\n",
      "Score: 0.9828082680702209\n",
      "Trial summary\n",
      "Hyperparameters:\n",
      "units: 50\n",
      "learning_rate: 0.01\n",
      "Score: 0.9807830810546875\n",
      "Trial summary\n",
      "Hyperparameters:\n",
      "units: 30\n",
      "learning_rate: 0.01\n",
      "Score: 0.9723672270774841\n",
      "Trial summary\n",
      "Hyperparameters:\n",
      "units: 90\n",
      "learning_rate: 0.0001\n",
      "Score: 0.8956345677375793\n",
      "None\n"
     ]
    }
   ],
   "source": [
    "#result\n",
    "result=tuner.get_best_hyperparameters()[0].values\n",
    "print('The best 4-layers NN parameters would be {} neurons and {} learning rate.'.format(result['units'],result['learning_rate']))\n",
    "print('------------------------------------------')\n",
    "print(\"The best model's accuracy on test data = 98%\")\n",
    "print('------------------------------------------')\n",
    "print(tuner.results_summary())"
   ]
  },
  {
   "cell_type": "markdown",
   "metadata": {},
   "source": [
    "# 7. Plot the ROC Curve & Confusion Matrix"
   ]
  },
  {
   "cell_type": "code",
   "execution_count": 81,
   "metadata": {},
   "outputs": [],
   "source": [
    "prob=NNmodel2.predict(x_test)\n",
    "tem=[]\n",
    "for i in range(len(prob)):\n",
    "    tem.append(prob[i][0])\n",
    "prob=tem\n",
    "y_pred=[]\n",
    "for i in range(len(prob)):\n",
    "    if prob[i]>0.5:\n",
    "        y_pred.append('1')\n",
    "    else:\n",
    "        y_pred.append('0')\n"
   ]
  },
  {
   "cell_type": "code",
   "execution_count": 83,
   "metadata": {},
   "outputs": [
    {
     "name": "stdout",
     "output_type": "stream",
     "text": [
      "True       0    1\n",
      "Predict          \n",
      "0        542   23\n",
      "1         24  332\n"
     ]
    },
    {
     "data": {
      "image/png": "[encoded data removed]",
      "text/plain": [
       "<Figure size 432x288 with 1 Axes>"
      ]
     },
     "metadata": {
      "needs_background": "light"
     },
     "output_type": "display_data"
    }
   ],
   "source": [
    "#create the confucion matrix\n",
    "tem=pd.DataFrame({'True':y_test,'Predict':y_pred})\n",
    "print(tem.groupby(['Predict','True']).size().unstack())\n",
    "\n",
    "#create ROC curve\n",
    "fpr, tpr, _ = metrics.roc_curve(y_test, prob,pos_label=1)\n",
    "plt.plot(fpr,tpr)\n",
    "plt.ylabel('True Positive Rate')\n",
    "plt.xlabel('False Positive Rate')\n",
    "plt.title('ROC Curve')\n",
    "plt.show()"
   ]
  },
  {
   "cell_type": "markdown",
   "metadata": {},
   "source": [
    "#### According to the Lift Curve, I find the SVM model is really good at capturing spam cases. In addition according to the confustion matrix and cost structure, the average misclassification rate = (230+24) / 921 = 0.2757"
   ]
  },
  {
   "cell_type": "markdown",
   "metadata": {},
   "source": [
    "# 10. According to the cost model, the consequence of mis-classifying positive cases are more severe. The weight for class 1 is 10, and the weight for class 0 is 1. Hence, this time I try to find the best 4-layers NN model with different class weights."
   ]
  },
  {
   "cell_type": "code",
   "execution_count": 84,
   "metadata": {},
   "outputs": [
    {
     "name": "stdout",
     "output_type": "stream",
     "text": [
      "WARNING:tensorflow:Unresolved object in checkpoint: (root).optimizer.iter\n",
      "WARNING:tensorflow:Unresolved object in checkpoint: (root).optimizer.beta_1\n",
      "WARNING:tensorflow:Unresolved object in checkpoint: (root).optimizer.beta_2\n",
      "WARNING:tensorflow:Unresolved object in checkpoint: (root).optimizer.decay\n",
      "WARNING:tensorflow:Unresolved object in checkpoint: (root).optimizer.learning_rate\n",
      "WARNING:tensorflow:A checkpoint was restored (e.g. tf.train.Checkpoint.restore or tf.keras.Model.load_weights) but not all checkpointed values were used. See above for specific issues. Use expect_partial() on the load status object, e.g. tf.train.Checkpoint.restore(...).expect_partial(), to silence these warnings, or use assert_consumed() to make the check explicit. See https://www.tensorflow.org/guide/checkpoint#loading_mechanics for details.\n",
      "The best parameters activation=relu & nb_hidden=100\n",
      "Prediction Accuracy Score on Test Data: 92.94%\n",
      "Recall positive on Test Data: 95.77%\n"
     ]
    }
   ],
   "source": [
    "#Grid Search Verison\n",
    "NN_grid = {'activation':['relu', 'sigmoid'], 'nb_hidden':[10,20,30,40,50,60,70,80,90,100]}\n",
    "# Create the Classifier\n",
    "def create_model(activation, nb_hidden):\n",
    "    model = Sequential()\n",
    "    model.add(Dense(nb_hidden, input_dim=57, activation=activation))\n",
    "    model.add(Dense(nb_hidden, activation=activation))\n",
    "    model.add(Dense(nb_hidden, activation=activation))\n",
    "    model.add(Dense(1, activation='sigmoid'))\n",
    "    model.compile(loss='binary_crossentropy', optimizer='adam', metrics=['accuracy'])\n",
    "    return model\n",
    "NN = KerasClassifier(build_fn=create_model, epochs=30, batch_size=256, verbose=0)\n",
    "\n",
    "#Grid Search CV for Neural Network\n",
    "NNmodel3 = GridSearchCV(estimator=NN, param_grid=NN_grid, cv=5,scoring='accuracy')\n",
    "class_weight = {0: 1.,1:10.}\n",
    "NNmodel3.fit(x_train, y_train,class_weight=class_weight)\n",
    "\n",
    "#Result\n",
    "print('The best parameters activation={} & nb_hidden={}'.format(NNmodel3.best_params_['activation'],NNmodel3.best_params_['nb_hidden']))\n",
    "print(\"Prediction Accuracy Score on Test Data: {}%\".format(round(metrics.accuracy_score(y_test, NNmodel3.predict(x_test))*100,2)))\n",
    "print(\"Recall positive on Test Data: {}%\".format(round(metrics.recall_score(y_test, NNmodel3.predict(x_test),pos_label=1)*100,2)))"
   ]
  },
  {
   "cell_type": "code",
   "execution_count": 85,
   "metadata": {},
   "outputs": [
    {
     "name": "stdout",
     "output_type": "stream",
     "text": [
      "True       0    1\n",
      "Predict          \n",
      "0        516   15\n",
      "1         50  340\n"
     ]
    }
   ],
   "source": [
    "#create the confucion matrix\n",
    "y_pred=NNmodel3.predict(x_test)\n",
    "y_pred=[ y_pred[i][0] for i in range(len(x_test))]\n",
    "tem=pd.DataFrame({'True':y_test,'Predict':y_pred})\n",
    "print(tem.groupby(['Predict','True']).size().unstack())"
   ]
  },
  {
   "cell_type": "markdown",
   "metadata": {},
   "source": [
    "#### According to the confustion matrix, after taking class wights into account, the average misclassification rate drop dramatically to (150+50) / 921 = 0.217."
   ]
  }
 ],
 "metadata": {
  "kernelspec": {
   "display_name": "Python 3.10.6 64-bit",
   "language": "python",
   "name": "python3"
  },
  "language_info": {
   "codemirror_mode": {
    "name": "ipython",
    "version": 3
   },
   "file_extension": ".py",
   "mimetype": "text/x-python",
   "name": "python",
   "nbconvert_exporter": "python",
   "pygments_lexer": "ipython3",
   "version": "3.10.6"
  },
  "vscode": {
   "interpreter": {
    "hash": "aee8b7b246df8f9039afb4144a1f6fd8d2ca17a180786b69acc140d282b71a49"
   }
  }
 },
 "nbformat": 4,
 "nbformat_minor": 4
}
